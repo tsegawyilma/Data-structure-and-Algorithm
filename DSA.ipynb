{
 "cells": [
  {
   "cell_type": "markdown",
   "id": "4e0ee9c4",
   "metadata": {},
   "source": [
    " #                                    Bubble sort by ID"
   ]
  },
  {
   "cell_type": "code",
   "execution_count": null,
   "id": "41c4f2ce",
   "metadata": {},
   "outputs": [],
   "source": [
    "\n",
    "students = [\n",
    "    {'id': 'DBU1600001', 'name': 'Dawit', 'dept': 'CS', 'cgpa': 3.34},\n",
    "    {'id': 'DBU1600002', 'name': 'Abrham', 'dept': 'CS', 'cgpa': 3.12},\n",
    "    {'id': 'DBU1600003', 'name': 'Soliana', 'dept': 'CS', 'cgpa': 2.4},\n",
    "    {'id': 'DBU1600004', 'name': 'Rahel', 'dept': 'CS', 'cgpa': 3.1},\n",
    "    {'id': 'DBU1600005', 'name': 'Martha', 'dept': 'CS', 'cgpa': 2.5},\n",
    "    {'id': 'DBU1600006', 'name': 'Yonas', 'dept': 'CS', 'cgpa': 3.8},\n",
    "    {'id': 'DBU1600007', 'name': 'Bethel', 'dept': 'CS', 'cgpa': 4.0},\n",
    "    {'id': 'DBU1600008', 'name': 'Samuel', 'dept': 'CS', 'cgpa': 2.9},\n",
    "    {'id': 'DBU1600009', 'name': 'Helen', 'dept': 'CS', 'cgpa': 3.4},\n",
    "    {'id': 'DBU1600010', 'name': 'Daniel', 'dept': 'CS', 'cgpa': 3.2}\n",
    "]\n",
    "\n",
    "\n",
    "def bubbleSortID(students):\n",
    "    k = len(students)\n",
    "    for i in range(k):\n",
    "        for l in range(0, k-i-1):\n",
    "            if students[l]['id'] > students[l+1]['id']:\n",
    "                students[l], students[l+1] = students[l+1], students[l]\n",
    "\n",
    "\n",
    "bubbleSortID(students)        \n",
    "\n",
    "print(\"Data sorted by id:\")\n",
    "for i in students:\n",
    "    print(i)  "
   ]
  },
  {
   "cell_type": "markdown",
   "id": "a03c645d",
   "metadata": {},
   "source": [
    "#    Insertion sort by Name"
   ]
  },
  {
   "cell_type": "code",
   "execution_count": null,
   "id": "64e6b4bd",
   "metadata": {},
   "outputs": [],
   "source": [
    "\n",
    "students = [\n",
    "    {'id': 'DBU1600001', 'name': 'Dawit', 'dept': 'CS', 'cgpa': 3.34},\n",
    "    {'id': 'DBU1600002', 'name': 'Abrham', 'dept': 'CS', 'cgpa': 3.12},\n",
    "    {'id': 'DBU1600003', 'name': 'Soliana', 'dept': 'CS', 'cgpa': 2.4},\n",
    "    {'id': 'DBU1600004', 'name': 'Rahel', 'dept': 'CS', 'cgpa': 3.1},\n",
    "    {'id': 'DBU1600005', 'name': 'Martha', 'dept': 'CS', 'cgpa': 2.5},\n",
    "    {'id': 'DBU1600006', 'name': 'Yonas', 'dept': 'CS', 'cgpa': 3.8},\n",
    "    {'id': 'DBU1600007', 'name': 'Bethel', 'dept': 'CS', 'cgpa': 4.0},\n",
    "    {'id': 'DBU1600008', 'name': 'Samuel', 'dept': 'CS', 'cgpa': 2.9},\n",
    "    {'id': 'DBU1600009', 'name': 'Helen', 'dept': 'CS', 'cgpa': 3.4},\n",
    "    {'id': 'DBU1600010', 'name': 'Daniel', 'dept': 'CS', 'cgpa': 3.2}\n",
    "]\n",
    "\n",
    "def insertionSortName(students):\n",
    "    for i in range(1, len(students)):\n",
    "        s= students[i]\n",
    "        j = i - 1\n",
    "        while j >= 0 and s['name'] < students[j]['name']:\n",
    "            students[j + 1] = students[j]\n",
    "            j -= 1\n",
    "        students[j + 1] = s\n",
    "\n",
    "insertionSortName(students)\n",
    "print(\"Data sorted by NAME:\")\n",
    "for i in students:\n",
    "    print(i)        "
   ]
  },
  {
   "cell_type": "markdown",
   "id": "87037169",
   "metadata": {},
   "source": [
    "\n",
    "# Selection sort by CGPA (Descending order)"
   ]
  },
  {
   "cell_type": "code",
   "execution_count": null,
   "id": "a7752dbb",
   "metadata": {},
   "outputs": [],
   "source": [
    "students = [\n",
    "    {'id': 'DBU1600001', 'name': 'Dawit', 'dept': 'CS', 'cgpa': 3.34},\n",
    "    {'id': 'DBU1600002', 'name': 'Abrham', 'dept': 'CS', 'cgpa': 3.12},\n",
    "    {'id': 'DBU1600003', 'name': 'Soliana', 'dept': 'CS', 'cgpa': 2.4},\n",
    "    {'id': 'DBU1600004', 'name': 'Rahel', 'dept': 'CS', 'cgpa': 3.1},\n",
    "    {'id': 'DBU1600005', 'name': 'Martha', 'dept': 'CS', 'cgpa': 2.5},\n",
    "    {'id': 'DBU1600006', 'name': 'Yonas', 'dept': 'CS', 'cgpa': 3.8},\n",
    "    {'id': 'DBU1600007', 'name': 'Bethel', 'dept': 'CS', 'cgpa': 4.0},\n",
    "    {'id': 'DBU1600008', 'name': 'Samuel', 'dept': 'CS', 'cgpa': 2.9},\n",
    "    {'id': 'DBU1600009', 'name': 'Helen', 'dept': 'CS', 'cgpa': 3.4},\n",
    "    {'id': 'DBU1600010', 'name': 'Daniel', 'dept': 'CS', 'cgpa': 3.2}\n",
    "]\n",
    "def selectionSortCgpa(students):\n",
    "    num = len(students)\n",
    "    for i in range(num):\n",
    "        maxIdx = i\n",
    "        for j in range(i+1, num):\n",
    "            if students[j]['cgpa'] > students[ maxIdx]['cgpa']:\n",
    "                  maxIdx = j\n",
    "        students[i], students[maxIdx] = students[maxIdx], students[i]\n",
    "\n",
    "\n",
    "selectionSortCgpa(students)\n",
    "print(\"Data sorted by CGPA:\")\n",
    "\n",
    "for i in students:\n",
    "    print(i)  \n"
   ]
  },
  {
   "cell_type": "markdown",
   "id": "9ae3d74b",
   "metadata": {},
   "source": [
    "# Analysis & Comparison of Sorting Algorithms"
   ]
  },
  {
   "cell_type": "markdown",
   "id": "782491d7",
   "metadata": {},
   "source": [
    "##### Bubble Sort (by ID):\n",
    "##### Easy to understand but slow. It checks and swaps items a lot, so it’s not great for big lists.\n",
    "\n",
    "##### Insertion Sort (by Name):\n",
    "##### Works well if the data is nearly sorted. It's simple and keeps the original order of names, but still slow for large lists.\n",
    "\n",
    "##### Selection Sort (by CGPA):\n",
    "##### Picks the highest CGPA each time. Fewer swaps than bubble sort, but also not efficient for large datasets. "
   ]
  }
 ],
 "metadata": {
  "language_info": {
   "name": "python"
  }
 },
 "nbformat": 4,
 "nbformat_minor": 5
}
